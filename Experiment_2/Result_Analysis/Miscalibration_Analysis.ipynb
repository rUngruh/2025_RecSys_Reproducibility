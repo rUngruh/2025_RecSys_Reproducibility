{
 "cells": [
  {
   "cell_type": "markdown",
   "id": "6f9d6180",
   "metadata": {},
   "source": [
    "# Miscalibration Analysis\n",
    "Use this script to analyze and test the miscalibration between recommendations and user profiles. Adapt the variables below to adapt to different datasets or RAs.\n"
   ]
  },
  {
   "cell_type": "code",
   "execution_count": null,
   "id": "e30fcf95",
   "metadata": {},
   "outputs": [],
   "source": [
    "models = ['Random', 'MostPop', 'RP3beta', 'iALS']\n",
    "dataset = 'bx'"
   ]
  },
  {
   "cell_type": "code",
   "execution_count": 81,
   "id": "7a0103a9",
   "metadata": {},
   "outputs": [],
   "source": [
    "import os\n",
    "import ast\n",
    "import pandas as pd\n",
    "import numpy as np\n",
    "import matplotlib.pyplot as plt\n",
    "import seaborn as sns\n",
    "import utils.genre_processing as gp\n",
    "import utils.file_handler as fh\n",
    "import utils.age_processing as ap\n",
    "from scipy.stats import f_oneway\n",
    "from statsmodels.stats.multicomp import pairwise_tukeyhsd\n",
    "from scipy.stats import ttest_rel\n",
    "from scipy.spatial.distance import jensenshannon"
   ]
  },
  {
   "cell_type": "code",
   "execution_count": null,
   "id": "2dea1500",
   "metadata": {},
   "outputs": [],
   "source": [
    "\n",
    "ages_sort = ap.get_sorted_ages(dataset, 'defined_ages')\n",
    "child_group = ages_sort[0]"
   ]
  },
  {
   "cell_type": "code",
   "execution_count": 83,
   "id": "5d280e76",
   "metadata": {},
   "outputs": [],
   "source": [
    "results_path = f'../Results/{dataset}/user_and_recommendation_genre_distributions.tsv'\n",
    "genres = gp.get_genres(dataset)"
   ]
  },
  {
   "cell_type": "code",
   "execution_count": 84,
   "id": "44eee7c7",
   "metadata": {},
   "outputs": [],
   "source": [
    "results = pd.read_csv(results_path, sep='\\t')"
   ]
  },
  {
   "cell_type": "code",
   "execution_count": 85,
   "id": "c7ff23ab",
   "metadata": {},
   "outputs": [],
   "source": [
    "for column in results.columns:\n",
    "    if 'genre_distribution' in column:\n",
    "        results[column] = results[column].apply(fh.safe_literal_eval)"
   ]
  },
  {
   "cell_type": "code",
   "execution_count": 86,
   "id": "238469bc",
   "metadata": {},
   "outputs": [
    {
     "data": {
      "text/plain": [
       "Index(['user_id', 'age', 'age_group', 'train_genre_distribution',\n",
       "       'train_interactions', 'train_avg_popularity',\n",
       "       'train_avg_normalized_popularity', 'train_avg_child_popularity',\n",
       "       'train_avg_child_normalized_popularity',\n",
       "       'validation_genre_distribution', 'validation_interactions',\n",
       "       'validation_avg_popularity', 'validation_avg_normalized_popularity',\n",
       "       'validation_avg_child_popularity',\n",
       "       'validation_avg_child_normalized_popularity', 'test_genre_distribution',\n",
       "       'test_interactions', 'test_avg_popularity',\n",
       "       'test_avg_normalized_popularity', 'test_avg_child_popularity',\n",
       "       'test_avg_child_normalized_popularity', 'RP3beta_genre_distribution',\n",
       "       'RP3beta_interactions', 'RP3beta_avg_popularity',\n",
       "       'RP3beta_avg_normalized_popularity', 'RP3beta_avg_child_popularity',\n",
       "       'RP3beta_avg_child_normalized_popularity',\n",
       "       'child_RP3beta_genre_distribution', 'child_RP3beta_interactions',\n",
       "       'child_RP3beta_avg_popularity',\n",
       "       'child_RP3beta_avg_normalized_popularity',\n",
       "       'child_RP3beta_avg_child_popularity',\n",
       "       'child_RP3beta_avg_child_normalized_popularity',\n",
       "       'iALS_genre_distribution', 'iALS_interactions', 'iALS_avg_popularity',\n",
       "       'iALS_avg_normalized_popularity', 'iALS_avg_child_popularity',\n",
       "       'iALS_avg_child_normalized_popularity', 'child_iALS_genre_distribution',\n",
       "       'child_iALS_interactions', 'child_iALS_avg_popularity',\n",
       "       'child_iALS_avg_normalized_popularity',\n",
       "       'child_iALS_avg_child_popularity',\n",
       "       'child_iALS_avg_child_normalized_popularity',\n",
       "       'MostPop_genre_distribution', 'MostPop_interactions',\n",
       "       'MostPop_avg_popularity', 'MostPop_avg_normalized_popularity',\n",
       "       'MostPop_avg_child_popularity',\n",
       "       'MostPop_avg_child_normalized_popularity',\n",
       "       'child_MostPop_genre_distribution', 'child_MostPop_interactions',\n",
       "       'child_MostPop_avg_popularity',\n",
       "       'child_MostPop_avg_normalized_popularity',\n",
       "       'child_MostPop_avg_child_popularity',\n",
       "       'child_MostPop_avg_child_normalized_popularity',\n",
       "       'Random_genre_distribution', 'Random_interactions',\n",
       "       'Random_avg_popularity', 'Random_avg_normalized_popularity',\n",
       "       'Random_avg_child_popularity', 'Random_avg_child_normalized_popularity',\n",
       "       'child_Random_genre_distribution', 'child_Random_interactions',\n",
       "       'child_Random_avg_popularity', 'child_Random_avg_normalized_popularity',\n",
       "       'child_Random_avg_child_popularity',\n",
       "       'child_Random_avg_child_normalized_popularity'],\n",
       "      dtype='object')"
      ]
     },
     "execution_count": 86,
     "metadata": {},
     "output_type": "execute_result"
    }
   ],
   "source": [
    "results.columns"
   ]
  },
  {
   "cell_type": "code",
   "execution_count": 87,
   "id": "8efbb5e4",
   "metadata": {},
   "outputs": [],
   "source": [
    "    \n",
    "def genre_miscalibration(df, models, child=False):\n",
    "    js_df = df[['user_id']].copy()\n",
    "    df =  df[['train_genre_distribution'] + [f'{\"child_\" if child else \"\"}{model}_genre_distribution' for model in models]]\n",
    "    model_js = {}\n",
    "    for model in models:\n",
    "        js_df.loc[:,f'gmc_{model}'] = None\n",
    "    \n",
    "    for i, row in df.iterrows():\n",
    "        user_distribution = np.array(gp.genre_dict_to_list(row['train_genre_distribution'], dataset), dtype=float)\n",
    "        for model in models:\n",
    "            model_distribution = np.array(gp.genre_dict_to_list(row[f'{\"child_\" if child else \"\"}{model}_genre_distribution'], dataset), dtype=float)   \n",
    "\n",
    "            js = jensenshannon(user_distribution, model_distribution)**2\n",
    "\n",
    "            if np.isnan(js):\n",
    "                js = 0\n",
    "            model_js[model] = model_js.get(model, 0) + js\n",
    "            js_df.at[i, f'gmc_{model}'] = js\n",
    "    model_js = {key: value/len(df) for key, value in model_js.items()}\n",
    "    return model_js, js_df"
   ]
  },
  {
   "cell_type": "code",
   "execution_count": 88,
   "id": "437a815d",
   "metadata": {},
   "outputs": [],
   "source": [
    "gmc_results_df = pd.DataFrame()\n",
    "\n",
    "for age_group, group in results.groupby('age_group'):\n",
    "    mean_gmcs, gmc_df = genre_miscalibration(group, models, child=False)\n",
    "    gmc_df['user_group'] = age_group\n",
    "    gmc_df['age'] = group['age']\n",
    "    gmc_results_df = pd.concat([gmc_results_df,gmc_df], ignore_index=True, axis=0)\n",
    "    if age_group == child_group:\n",
    "        child_mean_gmcs, child_gmc_df = genre_miscalibration(group, models, child=True)\n",
    "        child_gmc_df['user_group'] = 'child_focused'\n",
    "        child_gmc_df['age'] = group['age']\n",
    "        gmc_results_df = pd.concat([gmc_results_df,child_gmc_df], ignore_index=True, axis=0)\n"
   ]
  },
  {
   "cell_type": "code",
   "execution_count": 89,
   "id": "b3ec6b19",
   "metadata": {},
   "outputs": [
    {
     "name": "stdout",
     "output_type": "stream",
     "text": [
      "Index(['user_id', 'gmc_Random', 'gmc_MostPop', 'gmc_RP3beta', 'gmc_iALS',\n",
      "       'user_group', 'age'],\n",
      "      dtype='object')\n"
     ]
    }
   ],
   "source": [
    "print(gmc_results_df.columns)"
   ]
  },
  {
   "cell_type": "code",
   "execution_count": 90,
   "id": "4eae6210",
   "metadata": {},
   "outputs": [
    {
     "name": "stdout",
     "output_type": "stream",
     "text": [
      "==========================================================================\n",
      "Testing GMC for model: Random\n",
      "Average JS divergence for Random:\n",
      "12-17: 0.293\n",
      "18-49: 0.212\n",
      "50-65: 0.217\n",
      "\n",
      "-----------------------------------------------\n",
      "ANOVA result for Random: F-statistic = 67.6633, p-value = 0.0000\n",
      "ANOVA is significant for Random, performing Tukey HSD test...\n",
      "Multiple Comparison of Means - Tukey HSD, FWER=0.01 \n",
      "====================================================\n",
      "group1 group2 meandiff p-adj   lower   upper  reject\n",
      "----------------------------------------------------\n",
      " 12-17  18-49  -0.0815    0.0  -0.102 -0.0611   True\n",
      " 12-17  50-65   -0.076    0.0 -0.0984 -0.0536   True\n",
      " 18-49  50-65   0.0056 0.3056 -0.0055  0.0166  False\n",
      "----------------------------------------------------\n",
      "\n",
      "-----------------------------------------------\n",
      "Paired t-test between child_focused and child\n",
      "Mean GMC for child_focused: 0.261\n",
      "Paired t-test result: t-statistic = -5.919, p-value = 0.000\n",
      "\n",
      "\n",
      "==========================================================================\n",
      "Testing GMC for model: MostPop\n",
      "Average JS divergence for MostPop:\n",
      "12-17: 0.308\n",
      "18-49: 0.199\n",
      "50-65: 0.181\n",
      "\n",
      "-----------------------------------------------\n",
      "ANOVA result for MostPop: F-statistic = 127.7245, p-value = 0.0000\n",
      "ANOVA is significant for MostPop, performing Tukey HSD test...\n",
      "Multiple Comparison of Means - Tukey HSD, FWER=0.01\n",
      "===================================================\n",
      "group1 group2 meandiff p-adj  lower   upper  reject\n",
      "---------------------------------------------------\n",
      " 12-17  18-49   -0.109   0.0 -0.1304 -0.0877   True\n",
      " 12-17  50-65  -0.1269   0.0 -0.1502 -0.1035   True\n",
      " 18-49  50-65  -0.0178   0.0 -0.0294 -0.0063   True\n",
      "---------------------------------------------------\n",
      "\n",
      "-----------------------------------------------\n",
      "Paired t-test between child_focused and child\n",
      "Mean GMC for child_focused: 0.261\n",
      "Paired t-test result: t-statistic = -4.525, p-value = 0.000\n",
      "\n",
      "\n",
      "==========================================================================\n",
      "Testing GMC for model: RP3beta\n",
      "Average JS divergence for RP3beta:\n",
      "12-17: 0.169\n",
      "18-49: 0.119\n",
      "50-65: 0.102\n",
      "\n",
      "-----------------------------------------------\n",
      "ANOVA result for RP3beta: F-statistic = 61.8090, p-value = 0.0000\n",
      "ANOVA is significant for RP3beta, performing Tukey HSD test...\n",
      "Multiple Comparison of Means - Tukey HSD, FWER=0.01\n",
      "===================================================\n",
      "group1 group2 meandiff p-adj  lower   upper  reject\n",
      "---------------------------------------------------\n",
      " 12-17  18-49  -0.0494   0.0 -0.0655 -0.0333   True\n",
      " 12-17  50-65  -0.0668   0.0 -0.0845 -0.0492   True\n",
      " 18-49  50-65  -0.0175   0.0 -0.0262 -0.0088   True\n",
      "---------------------------------------------------\n",
      "\n",
      "-----------------------------------------------\n",
      "Paired t-test between child_focused and child\n",
      "Mean GMC for child_focused: 0.211\n",
      "Paired t-test result: t-statistic = 5.973, p-value = 0.000\n",
      "\n",
      "\n",
      "==========================================================================\n",
      "Testing GMC for model: iALS\n",
      "Average JS divergence for iALS:\n",
      "12-17: 0.160\n",
      "18-49: 0.115\n",
      "50-65: 0.096\n",
      "\n",
      "-----------------------------------------------\n",
      "ANOVA result for iALS: F-statistic = 63.1386, p-value = 0.0000\n",
      "ANOVA is significant for iALS, performing Tukey HSD test...\n",
      "Multiple Comparison of Means - Tukey HSD, FWER=0.01\n",
      "===================================================\n",
      "group1 group2 meandiff p-adj  lower   upper  reject\n",
      "---------------------------------------------------\n",
      " 12-17  18-49  -0.0445   0.0   -0.06 -0.0291   True\n",
      " 12-17  50-65  -0.0639   0.0 -0.0808 -0.0469   True\n",
      " 18-49  50-65  -0.0193   0.0 -0.0277  -0.011   True\n",
      "---------------------------------------------------\n",
      "\n",
      "-----------------------------------------------\n",
      "Paired t-test between child_focused and child\n",
      "Mean GMC for child_focused: 0.210\n",
      "Paired t-test result: t-statistic = 7.142, p-value = 0.000\n",
      "\n",
      "\n"
     ]
    }
   ],
   "source": [
    "# Testing the GMC across all groups\n",
    "for model in models:\n",
    "    print('==========================================================================')\n",
    "    print(f\"Testing GMC for model: {model}\")\n",
    "    \n",
    "    # Group JSD by age group for the given model\n",
    "    js_df_clean = gmc_results_df[['user_group', f'gmc_{model}']].dropna()\n",
    "    js_df_clean = js_df_clean[js_df_clean['user_group'] != 'child_focused']\n",
    "    groups = [group[f'gmc_{model}'].values for name, group in js_df_clean.groupby('user_group')]\n",
    "    \n",
    "    # Print average scores\n",
    "    print(f\"Average JS divergence for {model}:\")\n",
    "    gmc_grouped = js_df_clean.groupby('user_group')[f'gmc_{model}'].mean()\n",
    "    for age in ages_sort:\n",
    "        if age in gmc_grouped.index:\n",
    "            print(f\"{age}: {gmc_grouped[age]:.3f}\")\n",
    "        else:\n",
    "            print(f\"{age}: {np.nan:.3f}\")\n",
    "    print()\n",
    "    print('-----------------------------------------------')\n",
    "    # One-way ANOVA test\n",
    "    anova_result = f_oneway(*groups)\n",
    "    print(f\"ANOVA result for {model}: F-statistic = {anova_result.statistic:.4f}, p-value = {anova_result.pvalue:.4f}\")\n",
    "    \n",
    "    # If ANOVA is significant, perform Tukey HSD for post-hoc analysis\n",
    "    if anova_result.pvalue < 0.05:\n",
    "        print(f\"ANOVA is significant for {model}, performing Tukey HSD test...\")\n",
    "        \n",
    "        tukey_result = pairwise_tukeyhsd(pd.to_numeric(js_df_clean[f'gmc_{model}']), js_df_clean['user_group'], alpha=0.01)\n",
    "        print(tukey_result)\n",
    "    print()\n",
    "    print('-----------------------------------------------')\n",
    "    # paired t-test between user_group = child_focused and user_group = child\n",
    "    print('Paired t-test between child_focused and child')\n",
    "    child_focused = gmc_results_df[gmc_results_df['user_group'] == 'child_focused'][f'gmc_{model}'].astype(float)\n",
    "    child = gmc_results_df[gmc_results_df['user_group'] == child_group][f'gmc_{model}'].astype(float)\n",
    "    ttest_result = ttest_rel(child_focused, child)\n",
    "    print(f\"Mean GMC for child_focused: {child_focused.mean():.3f}\")\n",
    "    print(f\"Paired t-test result: t-statistic = {ttest_result.statistic:.3f}, p-value = {ttest_result.pvalue:.3f}\")\n",
    "        \n",
    "    print()\n",
    "    print()"
   ]
  }
 ],
 "metadata": {
  "kernelspec": {
   "display_name": "2025_RecSys_repro",
   "language": "python",
   "name": "python3"
  },
  "language_info": {
   "codemirror_mode": {
    "name": "ipython",
    "version": 3
   },
   "file_extension": ".py",
   "mimetype": "text/x-python",
   "name": "python",
   "nbconvert_exporter": "python",
   "pygments_lexer": "ipython3",
   "version": "3.12.9"
  }
 },
 "nbformat": 4,
 "nbformat_minor": 5
}
