{
 "cells": [
  {
   "cell_type": "markdown",
   "id": "dab08bdb",
   "metadata": {},
   "source": [
    "# Compare user stats to filtered set\n",
    "As the filtering for years and splitting of the data removes certain user profiles, this script can be used to gauge whether the train set properly reflects age distributions of the original data.\n"
   ]
  },
  {
   "cell_type": "code",
   "execution_count": 8,
   "id": "202d1abb",
   "metadata": {},
   "outputs": [],
   "source": [
    "import utils.age_processing as ap"
   ]
  },
  {
   "cell_type": "code",
   "execution_count": 9,
   "id": "2a681584",
   "metadata": {},
   "outputs": [],
   "source": [
    "import pandas as pd\n",
    "import os\n",
    "from dotenv import load_dotenv\n",
    "from pathlib import Path\n",
    "\n",
    "env_path = Path('../..') / 'config.env'\n",
    "load_dotenv(dotenv_path=env_path)\n",
    "dataset_dir = os.getenv(\"dataset_directory\")\n",
    "\n"
   ]
  },
  {
   "cell_type": "code",
   "execution_count": 10,
   "id": "8cf9b5fa",
   "metadata": {},
   "outputs": [],
   "source": [
    "dataset = 'ml' # ml, mlhd, or bx\n",
    "filtered = True \n",
    "weighted = True\n",
    "age_type = 'finegrained_age'"
   ]
  },
  {
   "cell_type": "code",
   "execution_count": 11,
   "id": "bd9d3a61",
   "metadata": {},
   "outputs": [],
   "source": [
    "if dataset == 'ml':    \n",
    "    data_dir = dataset_dir + f'/processed/ml_rec{\"_filtered\" if filtered else \"\"}'\n",
    "    user_stats_path = dataset_dir + f'/processed/movielens-1m'\n",
    "elif dataset == 'mlhd':\n",
    "    data_dir = dataset_dir + f'/processed/mlhd_rec{\"_filtered\" if filtered else \"\"}_{year}'\n",
    "    user_stats_path = dataset_dir + f'/processed/mlhd_sampled_filtered'\n",
    "elif dataset == 'bx':\n",
    "    data_dir = dataset_dir + f'/processed/bx_rec{\"_filtered\" if filtered else \"\"}'\n",
    "    user_stats_path = dataset_dir + f'/processed/Book-Crossing'\n",
    "    "
   ]
  },
  {
   "cell_type": "code",
   "execution_count": 12,
   "id": "701c51a7",
   "metadata": {},
   "outputs": [],
   "source": [
    "user_info_path = data_dir + '/user_info.tsv'\n",
    "user_stats = pd.read_csv(user_stats_path + f'/user_profile_stats{\"_weighted\" if weighted else \"\"}.tsv', sep='\\t')\n",
    "user_info = pd.read_csv(user_info_path, sep='\\t')\n",
    "\n",
    "ages_sort = ap.get_sorted_ages(dataset, age_type)"
   ]
  },
  {
   "cell_type": "code",
   "execution_count": 13,
   "id": "9a3dd3dd",
   "metadata": {},
   "outputs": [],
   "source": [
    "user_stats['age_group'] = user_stats['age'].apply(lambda x: ap.age_group(x, dataset, age_type))\n",
    "user_stats['age_group'] = pd.Categorical(user_stats['age_group'], categories=ages_sort, ordered=True)\n",
    "\n",
    "user_info['age_group'] = user_info['age'].apply(lambda x: ap.age_group(x, dataset, age_type))\n",
    "user_info['age_group'] = pd.Categorical(user_info['age_group'], categories=ages_sort, ordered=True)\n"
   ]
  },
  {
   "cell_type": "code",
   "execution_count": 17,
   "id": "53c66405",
   "metadata": {},
   "outputs": [
    {
     "name": "stdout",
     "output_type": "stream",
     "text": [
      "Age group ratios for ml dataset:\n",
      "Under 18: Filtered: 0.0368, Original: 0.0366\n",
      "18-24: Filtered: 0.1826, Original: 0.1808\n",
      "25-34: Filtered: 0.3470, Original: 0.3488\n",
      "35-44: Filtered: 0.1975, Original: 0.1976\n",
      "45-49: Filtered: 0.0911, Original: 0.0907\n",
      "50-55: Filtered: 0.0821, Original: 0.0820\n",
      "56+: Filtered: 0.0629, Original: 0.0634\n"
     ]
    }
   ],
   "source": [
    "filtered_stats_ratio = user_stats['age_group'].value_counts(normalize=True)\n",
    "original_stats_ratio = user_info['age_group'].value_counts(normalize=True)\n",
    "print(f\"Age group ratios for {dataset} dataset:\")\n",
    "for age_group in ages_sort:\n",
    "    filtered_ratio = filtered_stats_ratio.get(age_group, 0)\n",
    "    original_ratio = original_stats_ratio.get(age_group, 0)\n",
    "    print(f\"{age_group}: Filtered: {filtered_ratio:.4f}, Original: {original_ratio:.4f}\")"
   ]
  }
 ],
 "metadata": {
  "kernelspec": {
   "display_name": "2025_RecSys_repro",
   "language": "python",
   "name": "python3"
  },
  "language_info": {
   "codemirror_mode": {
    "name": "ipython",
    "version": 3
   },
   "file_extension": ".py",
   "mimetype": "text/x-python",
   "name": "python",
   "nbconvert_exporter": "python",
   "pygments_lexer": "ipython3",
   "version": "3.12.9"
  }
 },
 "nbformat": 4,
 "nbformat_minor": 5
}
