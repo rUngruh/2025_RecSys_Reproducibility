{
 "cells": [
  {
   "cell_type": "code",
   "execution_count": 1,
   "metadata": {},
   "outputs": [],
   "source": [
    "import os\n",
    "import pandas as pd\n",
    "import matplotlib.pyplot as plt\n",
    "from dotenv import load_dotenv\n",
    "\n",
    "\n",
    "from pathlib import Path\n",
    "\n",
    "env_path = Path('..') / 'config.env'\n",
    "load_dotenv(dotenv_path=env_path)\n",
    "dataset_dir = os.getenv(\"dataset_directory\")\n",
    "mlhd_directory = dataset_dir + '/raw/MLHD+'\n"
   ]
  },
  {
   "cell_type": "code",
   "execution_count": 2,
   "metadata": {},
   "outputs": [],
   "source": [
    "users_all = pd.read_csv(mlhd_directory + '/MLHD_demographics.csv', sep='\\t')"
   ]
  },
  {
   "cell_type": "code",
   "execution_count": 3,
   "metadata": {},
   "outputs": [
    {
     "data": {
      "text/html": [
       "<div>\n",
       "<style scoped>\n",
       "    .dataframe tbody tr th:only-of-type {\n",
       "        vertical-align: middle;\n",
       "    }\n",
       "\n",
       "    .dataframe tbody tr th {\n",
       "        vertical-align: top;\n",
       "    }\n",
       "\n",
       "    .dataframe thead th {\n",
       "        text-align: right;\n",
       "    }\n",
       "</style>\n",
       "<table border=\"1\" class=\"dataframe\">\n",
       "  <thead>\n",
       "    <tr style=\"text-align: right;\">\n",
       "      <th></th>\n",
       "      <th>uuid</th>\n",
       "      <th>age</th>\n",
       "      <th>country</th>\n",
       "      <th>gender</th>\n",
       "      <th>playcount</th>\n",
       "      <th>age_scrobbles</th>\n",
       "      <th>user_type</th>\n",
       "      <th>registered</th>\n",
       "      <th>firstscrobble</th>\n",
       "      <th>lastscrobble</th>\n",
       "    </tr>\n",
       "  </thead>\n",
       "  <tbody>\n",
       "    <tr>\n",
       "      <th>0</th>\n",
       "      <td>dfb7ea9d-6e4f-48e4-96f6-59abcc207d55</td>\n",
       "      <td>30.0</td>\n",
       "      <td>AT</td>\n",
       "      <td>n</td>\n",
       "      <td>42622</td>\n",
       "      <td>3783</td>\n",
       "      <td>user</td>\n",
       "      <td>1035849600</td>\n",
       "      <td>1138630578</td>\n",
       "      <td>1362652343</td>\n",
       "    </tr>\n",
       "    <tr>\n",
       "      <th>1</th>\n",
       "      <td>a89cb9c5-ba84-424e-8950-16657bb6f7af</td>\n",
       "      <td>35.0</td>\n",
       "      <td>US</td>\n",
       "      <td>m</td>\n",
       "      <td>182118</td>\n",
       "      <td>3862</td>\n",
       "      <td>subscrib</td>\n",
       "      <td>1035849600</td>\n",
       "      <td>1130274207</td>\n",
       "      <td>1369498564</td>\n",
       "    </tr>\n",
       "    <tr>\n",
       "      <th>2</th>\n",
       "      <td>dde6c339-c256-43f1-94e8-02f4043abdf9</td>\n",
       "      <td>35.0</td>\n",
       "      <td>UK</td>\n",
       "      <td>m</td>\n",
       "      <td>40668</td>\n",
       "      <td>3727</td>\n",
       "      <td>user</td>\n",
       "      <td>1035849600</td>\n",
       "      <td>1108340306</td>\n",
       "      <td>1357866969</td>\n",
       "    </tr>\n",
       "    <tr>\n",
       "      <th>3</th>\n",
       "      <td>44d70878-6e9a-432f-831d-179e8354f448</td>\n",
       "      <td>40.0</td>\n",
       "      <td>DK</td>\n",
       "      <td>n</td>\n",
       "      <td>74916</td>\n",
       "      <td>3874</td>\n",
       "      <td>user</td>\n",
       "      <td>1035849600</td>\n",
       "      <td>1368342035</td>\n",
       "      <td>1126011087</td>\n",
       "    </tr>\n",
       "    <tr>\n",
       "      <th>4</th>\n",
       "      <td>e553ab79-5e93-48fc-aa63-1c4319cafd23</td>\n",
       "      <td>NaN</td>\n",
       "      <td>SE</td>\n",
       "      <td>n</td>\n",
       "      <td>49383</td>\n",
       "      <td>3730</td>\n",
       "      <td>user</td>\n",
       "      <td>1035849600</td>\n",
       "      <td>1189263203</td>\n",
       "      <td>1357317882</td>\n",
       "    </tr>\n",
       "    <tr>\n",
       "      <th>...</th>\n",
       "      <td>...</td>\n",
       "      <td>...</td>\n",
       "      <td>...</td>\n",
       "      <td>...</td>\n",
       "      <td>...</td>\n",
       "      <td>...</td>\n",
       "      <td>...</td>\n",
       "      <td>...</td>\n",
       "      <td>...</td>\n",
       "      <td>...</td>\n",
       "    </tr>\n",
       "    <tr>\n",
       "      <th>582698</th>\n",
       "      <td>f6c11893-4b9c-46da-8512-b30da1c238c1</td>\n",
       "      <td>NaN</td>\n",
       "      <td>NaN</td>\n",
       "      <td>m</td>\n",
       "      <td>16015</td>\n",
       "      <td>731</td>\n",
       "      <td>user</td>\n",
       "      <td>1317345850</td>\n",
       "      <td>1317346214</td>\n",
       "      <td>1380475995</td>\n",
       "    </tr>\n",
       "    <tr>\n",
       "      <th>582699</th>\n",
       "      <td>d65baf1a-62bf-4b73-b394-e2ad0c15dce5</td>\n",
       "      <td>26.0</td>\n",
       "      <td>BR</td>\n",
       "      <td>m</td>\n",
       "      <td>53667</td>\n",
       "      <td>731</td>\n",
       "      <td>user</td>\n",
       "      <td>1317365545</td>\n",
       "      <td>1321930518</td>\n",
       "      <td>1380502223</td>\n",
       "    </tr>\n",
       "    <tr>\n",
       "      <th>582700</th>\n",
       "      <td>de3b639b-5e0e-49f2-a61c-c62f8e045422</td>\n",
       "      <td>NaN</td>\n",
       "      <td>SG</td>\n",
       "      <td>f</td>\n",
       "      <td>13471</td>\n",
       "      <td>731</td>\n",
       "      <td>user</td>\n",
       "      <td>1317384336</td>\n",
       "      <td>1317385297</td>\n",
       "      <td>1380531095</td>\n",
       "    </tr>\n",
       "    <tr>\n",
       "      <th>582701</th>\n",
       "      <td>3bf52435-6c8b-45e1-83dc-0eade3924bf6</td>\n",
       "      <td>27.0</td>\n",
       "      <td>HU</td>\n",
       "      <td>m</td>\n",
       "      <td>17726</td>\n",
       "      <td>731</td>\n",
       "      <td>user</td>\n",
       "      <td>1317385588</td>\n",
       "      <td>1317460141</td>\n",
       "      <td>1380572449</td>\n",
       "    </tr>\n",
       "    <tr>\n",
       "      <th>582702</th>\n",
       "      <td>a0f103e2-ef52-406c-a864-47f7fd4f7d79</td>\n",
       "      <td>17.0</td>\n",
       "      <td>PL</td>\n",
       "      <td>m</td>\n",
       "      <td>32748</td>\n",
       "      <td>731</td>\n",
       "      <td>user</td>\n",
       "      <td>1317408648</td>\n",
       "      <td>1317409225</td>\n",
       "      <td>1380577372</td>\n",
       "    </tr>\n",
       "  </tbody>\n",
       "</table>\n",
       "<p>582703 rows × 10 columns</p>\n",
       "</div>"
      ],
      "text/plain": [
       "                                        uuid   age country gender  playcount  \\\n",
       "0       dfb7ea9d-6e4f-48e4-96f6-59abcc207d55  30.0      AT      n      42622   \n",
       "1       a89cb9c5-ba84-424e-8950-16657bb6f7af  35.0      US      m     182118   \n",
       "2       dde6c339-c256-43f1-94e8-02f4043abdf9  35.0      UK      m      40668   \n",
       "3       44d70878-6e9a-432f-831d-179e8354f448  40.0      DK      n      74916   \n",
       "4       e553ab79-5e93-48fc-aa63-1c4319cafd23   NaN      SE      n      49383   \n",
       "...                                      ...   ...     ...    ...        ...   \n",
       "582698  f6c11893-4b9c-46da-8512-b30da1c238c1   NaN     NaN      m      16015   \n",
       "582699  d65baf1a-62bf-4b73-b394-e2ad0c15dce5  26.0      BR      m      53667   \n",
       "582700  de3b639b-5e0e-49f2-a61c-c62f8e045422   NaN      SG      f      13471   \n",
       "582701  3bf52435-6c8b-45e1-83dc-0eade3924bf6  27.0      HU      m      17726   \n",
       "582702  a0f103e2-ef52-406c-a864-47f7fd4f7d79  17.0      PL      m      32748   \n",
       "\n",
       "        age_scrobbles user_type  registered  firstscrobble  lastscrobble  \n",
       "0                3783      user  1035849600     1138630578    1362652343  \n",
       "1                3862  subscrib  1035849600     1130274207    1369498564  \n",
       "2                3727      user  1035849600     1108340306    1357866969  \n",
       "3                3874      user  1035849600     1368342035    1126011087  \n",
       "4                3730      user  1035849600     1189263203    1357317882  \n",
       "...               ...       ...         ...            ...           ...  \n",
       "582698            731      user  1317345850     1317346214    1380475995  \n",
       "582699            731      user  1317365545     1321930518    1380502223  \n",
       "582700            731      user  1317384336     1317385297    1380531095  \n",
       "582701            731      user  1317385588     1317460141    1380572449  \n",
       "582702            731      user  1317408648     1317409225    1380577372  \n",
       "\n",
       "[582703 rows x 10 columns]"
      ]
     },
     "execution_count": 3,
     "metadata": {},
     "output_type": "execute_result"
    }
   ],
   "source": [
    "users_all"
   ]
  },
  {
   "cell_type": "code",
   "execution_count": 4,
   "metadata": {},
   "outputs": [
    {
     "name": "stdout",
     "output_type": "stream",
     "text": [
      "Average first scrobble: 2009-03-13 15:44:20.238986254\n",
      "Average last scrobble: 2012-11-26 01:10:56.769501686\n"
     ]
    }
   ],
   "source": [
    "print(f'Average first scrobble: {pd.to_datetime(users_all[\"firstscrobble\"].mean(), unit=\"s\")}')\n",
    "print(f'Average last scrobble: {pd.to_datetime(users_all[\"lastscrobble\"].mean(), unit=\"s\")}')"
   ]
  },
  {
   "cell_type": "code",
   "execution_count": 5,
   "metadata": {},
   "outputs": [
    {
     "data": {
      "text/plain": [
       "<Axes: title={'center': 'Last scrobble year distribution'}, xlabel='lastscrobble'>"
      ]
     },
     "execution_count": 5,
     "metadata": {},
     "output_type": "execute_result"
    },
    {
     "data": {
      "image/png": "[encoded data removed]",
      "text/plain": [
       "<Figure size 1500x500 with 1 Axes>"
      ]
     },
     "metadata": {},
     "output_type": "display_data"
    }
   ],
   "source": [
    "pd.to_datetime(users_all['lastscrobble'], unit='s').dt.year.value_counts().sort_index().plot(kind='bar', figsize=(15, 5), title='Last scrobble year distribution')"
   ]
  },
  {
   "cell_type": "code",
   "execution_count": 6,
   "metadata": {},
   "outputs": [],
   "source": [
    "data_collection_date = pd.to_datetime('2014-01-01')\n",
    "start_date = pd.to_datetime('2010-12-31')\n",
    "end_date = pd.to_datetime('2013-01-01')\n",
    "#users['age'] is the age at datacollection \n",
    "#users['registered'] is the date of registration in Unix\n",
    "#Assume that everyones birthday is the 1st of Jan\n",
    "users_all['age_at_start'] = users_all['age'] - (data_collection_date - start_date).days // 365\n",
    "users_all['age_at_signup'] = users_all['age'] - (data_collection_date - pd.to_datetime(users_all['registered'], unit='s')).dt.days // 365"
   ]
  },
  {
   "cell_type": "code",
   "execution_count": 7,
   "metadata": {},
   "outputs": [
    {
     "data": {
      "text/plain": [
       "age_at_signup\n",
       "13.0      7933\n",
       "14.0     19304\n",
       "15.0     33475\n",
       "16.0     43461\n",
       "17.0     46973\n",
       "         ...  \n",
       "107.0      154\n",
       "108.0      138\n",
       "109.0      122\n",
       "110.0       69\n",
       "111.0       44\n",
       "Name: count, Length: 99, dtype: int64"
      ]
     },
     "execution_count": 7,
     "metadata": {},
     "output_type": "execute_result"
    }
   ],
   "source": [
    "users_all[users_all['age_at_signup']>12]['age_at_signup'].value_counts().sort_index()"
   ]
  },
  {
   "cell_type": "code",
   "execution_count": 8,
   "metadata": {},
   "outputs": [
    {
     "data": {
      "text/plain": [
       "13121"
      ]
     },
     "execution_count": 8,
     "metadata": {},
     "output_type": "execute_result"
    }
   ],
   "source": [
    "users_all[users_all['age'] < 18].shape[0]"
   ]
  },
  {
   "cell_type": "code",
   "execution_count": 9,
   "metadata": {},
   "outputs": [],
   "source": [
    "# users_filtered = users_all[(users_all['age_scrobbles'] > 1500) & (users_all['playcount'] > 1000)]\n",
    "users_filtered = users_all[(pd.to_datetime(users_all['firstscrobble'], unit=\"s\") <= start_date) & (pd.to_datetime(users_all['lastscrobble'], unit=\"s\") >= end_date)]"
   ]
  },
  {
   "cell_type": "code",
   "execution_count": 10,
   "metadata": {},
   "outputs": [
    {
     "name": "stdout",
     "output_type": "stream",
     "text": [
      "46214\n"
     ]
    }
   ],
   "source": [
    "print(users_filtered[(users_filtered['age_at_start'] < 18) & (users_filtered['age_at_start'] > 12)].shape[0])"
   ]
  },
  {
   "cell_type": "code",
   "execution_count": 11,
   "metadata": {},
   "outputs": [
    {
     "name": "stdout",
     "output_type": "stream",
     "text": [
      "age_at_start\n",
      "13.0     1279\n",
      "14.0     3769\n",
      "15.0     8086\n",
      "16.0    13774\n",
      "17.0    19306\n",
      "Name: count, dtype: int64\n"
     ]
    }
   ],
   "source": [
    "print(users_filtered[(users_filtered['age_at_start'] < 18) & (users_filtered['age_at_start'] > 12)].value_counts('age_at_start').sort_index())"
   ]
  },
  {
   "cell_type": "code",
   "execution_count": 12,
   "metadata": {},
   "outputs": [
    {
     "data": {
      "text/plain": [
       "<Axes: xlabel='age_at_start'>"
      ]
     },
     "execution_count": 12,
     "metadata": {},
     "output_type": "execute_result"
    },
    {
     "data": {
      "image/png": "[encoded data removed]",
      "text/plain": [
       "<Figure size 640x480 with 1 Axes>"
      ]
     },
     "metadata": {},
     "output_type": "display_data"
    }
   ],
   "source": [
    "users_filtered[(users_filtered['age_at_start']<30) & (users_filtered['age_at_start']>11)].value_counts('age_at_start').sort_index().plot(kind='bar')"
   ]
  }
 ],
 "metadata": {
  "kernelspec": {
   "display_name": "2025_RecSys_repro",
   "language": "python",
   "name": "python3"
  },
  "language_info": {
   "codemirror_mode": {
    "name": "ipython",
    "version": 3
   },
   "file_extension": ".py",
   "mimetype": "text/x-python",
   "name": "python",
   "nbconvert_exporter": "python",
   "pygments_lexer": "ipython3",
   "version": "3.12.9"
  }
 },
 "nbformat": 4,
 "nbformat_minor": 2
}
