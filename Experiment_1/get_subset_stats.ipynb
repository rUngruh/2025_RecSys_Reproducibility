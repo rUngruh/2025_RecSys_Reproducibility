{
 "cells": [
  {
   "cell_type": "code",
   "execution_count": 1,
   "id": "bbaf78a9",
   "metadata": {},
   "outputs": [],
   "source": [
    "import utils.age_processing as ap\n",
    "import os\n",
    "import ast\n",
    "import pandas as pd\n",
    "import matplotlib\n",
    "import matplotlib.pyplot as plt\n",
    "import seaborn as sns\n",
    "matplotlib.use('TkAgg')"
   ]
  },
  {
   "cell_type": "code",
   "execution_count": 2,
   "id": "4c642e64",
   "metadata": {},
   "outputs": [],
   "source": [
    "from dotenv import load_dotenv\n",
    "from pathlib import Path\n",
    "env_path = Path('..') / 'config.env'\n",
    "load_dotenv(dotenv_path=env_path)\n",
    "dataset_dir = os.getenv(\"dataset_directory\")"
   ]
  },
  {
   "cell_type": "code",
   "execution_count": null,
   "id": "9bfbad66",
   "metadata": {},
   "outputs": [],
   "source": [
    "dataset = 'bx' # 'ml', 'mlhd', or 'bx'\n",
    "weighted = True\n",
    "age_type = 'defined_ages'"
   ]
  },
  {
   "cell_type": "code",
   "execution_count": 4,
   "id": "cf7586d3",
   "metadata": {},
   "outputs": [],
   "source": [
    "ages_sort = ap.get_sorted_ages(dataset, age_type)"
   ]
  },
  {
   "cell_type": "code",
   "execution_count": 5,
   "id": "93e3a6c3",
   "metadata": {},
   "outputs": [],
   "source": [
    "genres = []\n",
    "\n",
    "if dataset == 'ml':\n",
    "    data_dir = dataset_dir + '/processed/movielens-1m'\n",
    "    with open('../utils/ML_genres.txt', 'r') as f:\n",
    "        for line in f:\n",
    "            genres.append(line.strip())\n",
    "elif dataset == 'mlhd':\n",
    "    data_dir = dataset_dir + '/processed/mlhd_sampled_filtered'\n",
    "    with open('../utils/MLHD_genres.txt', 'r') as f:\n",
    "        for line in f:\n",
    "            genres.append(line.strip())\n",
    "elif dataset == 'bx':\n",
    "    data_dir = dataset_dir + '/processed/Book-Crossing'\n",
    "    with open('../utils/BX_genres.txt', 'r') as f:\n",
    "        for line in f:\n",
    "            genres.append(line.strip())\n",
    "\n"
   ]
  },
  {
   "cell_type": "code",
   "execution_count": 6,
   "id": "97d88b2f",
   "metadata": {},
   "outputs": [
    {
     "name": "stderr",
     "output_type": "stream",
     "text": [
      "C:\\Users\\rungruh\\AppData\\Local\\Temp\\ipykernel_20140\\3351963962.py:20: FutureWarning: The default of observed=False is deprecated and will be changed to True in a future version of pandas. Pass observed=False to retain current behavior or observed=True to adopt the future default and silence this warning.\n",
      "  grouped_user_stats = user_stats.groupby('age_group')\n"
     ]
    }
   ],
   "source": [
    "user_profile_stats_path = data_dir + f'/user_profile_stats{\"_weighted\" if weighted else \"\"}.tsv'\n",
    "user_path = data_dir + '/users.tsv'\n",
    "interactions_path = data_dir + '/interactions.tsv.bz2'\n",
    "if dataset == 'ml':\n",
    "    items_path = data_dir + '/movies.tsv'\n",
    "elif dataset == 'mlhd':\n",
    "    items_path = data_dir + '/tracks.tsv'\n",
    "    artists_path = data_dir + '/artists.tsv'\n",
    "elif dataset == 'bx':\n",
    "    items_path = data_dir + '/books.tsv'\n",
    "\n",
    "users = pd.read_csv(user_path, sep='\\t')\n",
    "user_stats = pd.read_csv(user_profile_stats_path, sep='\\t')\n",
    "user_stats['normalized_genre_distribution'] = user_stats['normalized_genre_distribution'].apply(ast.literal_eval)\n",
    "\n",
    "\n",
    "user_stats['age_group'] = user_stats['age'].apply(lambda x: ap.age_group(x, dataset, age_type))\n",
    "user_stats['age_group'] = pd.Categorical(user_stats['age_group'], categories=ages_sort, ordered=True)\n",
    "\n",
    "grouped_user_stats = user_stats.groupby('age_group')"
   ]
  },
  {
   "cell_type": "code",
   "execution_count": 7,
   "id": "6e4ecbad",
   "metadata": {},
   "outputs": [
    {
     "name": "stdout",
     "output_type": "stream",
     "text": [
      "Age group: 12-16\n",
      "Number of users: 17985\n",
      "Average number of interactions: 6341.105476786211\n",
      "Age group: 17-29\n",
      "Number of users: 174996\n",
      "Average number of interactions: 4758.394820453039\n",
      "Age group: 30-65\n",
      "Number of users: 26073\n",
      "Average number of interactions: 4174.0210946189545\n"
     ]
    }
   ],
   "source": [
    "for age, group in grouped_user_stats:\n",
    "    print(f\"Age group: {age}\")\n",
    "    print(f\"Number of users: {len(group)}\")\n",
    "    print(f\"Average number of interactions: {group['num_interactions'].mean()}\")"
   ]
  },
  {
   "cell_type": "markdown",
   "id": "6b1da0d8",
   "metadata": {},
   "source": [
    "## Profile Size Distribution"
   ]
  },
  {
   "cell_type": "code",
   "execution_count": 8,
   "id": "dc427602",
   "metadata": {},
   "outputs": [
    {
     "name": "stderr",
     "output_type": "stream",
     "text": [
      "C:\\Users\\rungruh\\AppData\\Local\\Temp\\ipykernel_20140\\4018935642.py:1: FutureWarning: The default of observed=False is deprecated and will be changed to True in a future version of pandas. Pass observed=False to retain current behavior or observed=True to adopt the future default and silence this warning.\n",
      "  interactions_per_age = user_stats.groupby('age_group')['num_interactions'].sum().to_dict()\n",
      "C:\\Users\\rungruh\\AppData\\Local\\Temp\\ipykernel_20140\\4018935642.py:14: UserWarning: set_ticklabels() should only be used with a fixed number of ticks, i.e. after set_ticks() or using a FixedLocator.\n",
      "  ax.set_yticklabels(ylabels)\n"
     ]
    },
    {
     "name": "stdout",
     "output_type": "stream",
     "text": [
      "Age group: 12-16, Number of ratings: 114044782, Percentage: 10.80%\n",
      "Age group: 17-29, Number of ratings: 832700060, Percentage: 78.89%\n",
      "Age group: 30-65, Number of ratings: 108829252, Percentage: 10.31%\n"
     ]
    }
   ],
   "source": [
    "interactions_per_age = user_stats.groupby('age_group')['num_interactions'].sum().to_dict()\n",
    "interactions_per_age = {age: interactions_per_age.get(age, 0) for age in ages_sort}\n",
    "\n",
    "\n",
    "# Print percentage of ratings per age group\n",
    "total_ratings = sum(interactions_per_age.values())\n",
    "for age, count in interactions_per_age.items():\n",
    "    percentage = (count / total_ratings) * 100 if total_ratings > 0 else 0\n",
    "    print(f\"Age group: {age}, Number of ratings: {count}, Percentage: {percentage:.2f}%\")\n",
    "\n",
    "plt.figure(figsize=(12, 6))\n",
    "ax = sns.lineplot(data=interactions_per_age, marker='o', color='b', )\n",
    "ylabels = [f'{x:,}' for x in ax.get_yticks()]\n",
    "ax.set_yticklabels(ylabels)\n",
    "plt.title('Number of Ratings per Age Group')\n",
    "plt.xlabel('Age')\n",
    "plt.ylabel('Number of Ratings')\n",
    "plt.grid(True, linestyle='--', linewidth=0.5, alpha=0.5)\n",
    "plt.xticks(ha='center')  # Rotate labels by 45 degrees and align to the right\n",
    "plt.show()\n",
    "\n",
    "\n",
    "\n",
    "plt.figure(figsize=(12, 6))\n",
    "ax = sns.boxplot(data=user_stats, x='age_group', y='num_interactions')\n",
    "ax.set(ylim=(0,250))\n",
    "plt.title('Number of Ratings per Age Group')\n",
    "plt.xlabel('Age')\n",
    "plt.ylabel('Number of Ratings per User')\n",
    "plt.grid(True, linestyle='--', linewidth=0.5, alpha=0.5)\n",
    "plt.xticks(ha='center')\n",
    "plt.show()"
   ]
  },
  {
   "cell_type": "code",
   "execution_count": 9,
   "id": "d6d071c4",
   "metadata": {},
   "outputs": [],
   "source": [
    "    ages = user_stats['age_group'].value_counts().to_dict()\n",
    "    ages = {age: ages.get(age, 0) for age in ages_sort}\n",
    "    plt.figure(figsize=(10, 8))\n",
    "    sns.barplot(x=list(ages.keys()), y=list(ages.values()), color='b')\n",
    "    #plt.title('Number of Profiles per Age Group')\n",
    "    plt.xlabel('Age', fontsize=16)\n",
    "    plt.ylabel('Number of Profiles', fontsize=16)\n",
    "    # Ensure that the x-ticks only show the desired ages\n",
    "    plt.xticks(fontsize=16)\n",
    "    plt.yticks(fontsize=16)\n",
    "    plt.tight_layout()\n",
    "    plt.show()"
   ]
  },
  {
   "cell_type": "code",
   "execution_count": 10,
   "id": "b850cdbe",
   "metadata": {},
   "outputs": [
    {
     "name": "stdout",
     "output_type": "stream",
     "text": [
      "Number of users: 44349\n",
      "Number of user profiles: 219054\n",
      "Average number of profiles: 4.939322194412501\n",
      "Minimum number of profiles: 1\n",
      "Maximum number of profiles: 6\n",
      "Number of users with more than 1 profile: 44345\n",
      "Number of users with more than 5 profiles: 7\n",
      "Number of users with more than 10 profiles: 0\n",
      "Average profile size: 4808.3177448570805\n",
      "Average interactions per user: 23801.530902613362\n",
      "Minimum profile size: 1\n",
      "Maximum profile size: 95749\n",
      "Number of profiles with more than 1 listen event: 218632\n",
      "Number of profiles with more than 5 interactions: 217818\n",
      "Number of profiles with more than 10 interactions: 217057\n"
     ]
    }
   ],
   "source": [
    "stats_grouped = user_stats.groupby('user_id')\n",
    "num_users = len(stats_grouped)\n",
    "print(f\"Number of users: {num_users}\")\n",
    "print(f\"Number of user profiles: {len(user_stats)}\")\n",
    "\n",
    "num_profiles = {user_id: len(group) for user_id, group in stats_grouped}\n",
    "avg_num_profiles = sum(num_profiles.values()) / len(num_profiles)\n",
    "min_num_profiles = min(num_profiles.values())\n",
    "max_num_profiles = max(num_profiles.values())\n",
    "print(f\"Average number of profiles: {avg_num_profiles}\")\n",
    "print(f\"Minimum number of profiles: {min_num_profiles}\")\n",
    "print(f\"Maximum number of profiles: {max_num_profiles}\")\n",
    "print(f\"Number of users with more than 1 profile: {sum(1 for num in num_profiles.values() if num > 1)}\")\n",
    "print(f\"Number of users with more than 5 profiles: {sum(1 for num in num_profiles.values() if num > 5)}\")\n",
    "print(f\"Number of users with more than 10 profiles: {sum(1 for num in num_profiles.values() if num > 10)}\")\n",
    "\n",
    "profile_sizes = {user_id: group['num_interactions'].tolist() for user_id, group in stats_grouped}\n",
    "avg_profile_size = sum(sum(sizes) / len(sizes) for sizes in profile_sizes.values()) / len(profile_sizes)\n",
    "avg_listen_events_per_user = sum(sum(sizes) for sizes in profile_sizes.values()) / len(profile_sizes)\n",
    "print(f\"Average profile size: {avg_profile_size}\")\n",
    "print(f\"Average interactions per user: {avg_listen_events_per_user}\")\n",
    "print(f\"Minimum profile size: {min(min(sizes) for sizes in profile_sizes.values())}\")\n",
    "print(f\"Maximum profile size: {max(max(sizes) for sizes in profile_sizes.values())}\")\n",
    "print(f\"Number of profiles with more than 1 listen event: {sum(sum(1 for size in sizes if size > 1) for sizes in profile_sizes.values())}\")\n",
    "print(f\"Number of profiles with more than 5 interactions: {sum(sum(1 for size in sizes if size > 5) for sizes in profile_sizes.values())}\")\n",
    "print(f\"Number of profiles with more than 10 interactions: {sum(sum(1 for size in sizes if size > 10) for sizes in profile_sizes.values())}\")\n",
    "\n",
    "\n",
    "ages = user_stats['age'].value_counts().to_dict()\n",
    "\n",
    "plt.figure(figsize=(10, 8))\n",
    "sns.barplot(x=list(ages.keys()), y=list(ages.values()), color='b')\n",
    "#plt.title('Number of Profiles per Age Group')\n",
    "plt.xlabel('Age', fontsize=16)\n",
    "plt.ylabel('Number of Profiles', fontsize=16)\n",
    "# Create a list of x-tick positions. Start with the minimum age and add every 5 years.\n",
    "ages_to_display = [0, 3] + list(range(3, int(max(ages.keys()))-10, 5))\n",
    "\n",
    "# Ensure that the x-ticks only show the desired ages\n",
    "plt.xticks(ticks=ages_to_display, fontsize=16)\n",
    "plt.yticks(fontsize=16)\n",
    "plt.tight_layout()\n",
    "plt.show()"
   ]
  },
  {
   "cell_type": "code",
   "execution_count": 11,
   "id": "90bee9cc",
   "metadata": {},
   "outputs": [
    {
     "name": "stdout",
     "output_type": "stream",
     "text": [
      "Number of users: 44349\n",
      "Number of interactions: 1055574094\n",
      "Number of items: 1918414\n",
      "Number of artists: 45451\n"
     ]
    }
   ],
   "source": [
    "print(f\"Number of users: {len(users)}\")\n",
    "print(f\"Number of interactions: {user_stats['num_interactions'].sum()}\")\n",
    "items = pd.read_csv(items_path, sep='\\t')\n",
    "print(f\"Number of items: {len(items)}\")\n",
    "if dataset == 'mlhd':\n",
    "    artists = pd.read_csv(artists_path, sep='\\t')\n",
    "    print(f\"Number of artists: {len(artists)}\")"
   ]
  },
  {
   "cell_type": "code",
   "execution_count": 12,
   "id": "679ab478",
   "metadata": {},
   "outputs": [
    {
     "data": {
      "text/html": [
       "<div>\n",
       "<style scoped>\n",
       "    .dataframe tbody tr th:only-of-type {\n",
       "        vertical-align: middle;\n",
       "    }\n",
       "\n",
       "    .dataframe tbody tr th {\n",
       "        vertical-align: top;\n",
       "    }\n",
       "\n",
       "    .dataframe thead th {\n",
       "        text-align: right;\n",
       "    }\n",
       "</style>\n",
       "<table border=\"1\" class=\"dataframe\">\n",
       "  <thead>\n",
       "    <tr style=\"text-align: right;\">\n",
       "      <th></th>\n",
       "      <th>user_id</th>\n",
       "      <th>age</th>\n",
       "      <th>num_interactions</th>\n",
       "      <th>num_unique_items</th>\n",
       "      <th>normalized_genre_distribution</th>\n",
       "      <th>age_group</th>\n",
       "    </tr>\n",
       "  </thead>\n",
       "  <tbody>\n",
       "    <tr>\n",
       "      <th>0</th>\n",
       "      <td>15</td>\n",
       "      <td>12.0</td>\n",
       "      <td>4117</td>\n",
       "      <td>672</td>\n",
       "      <td>{'pop': 0.20456643186786935, 'punk': 0.0351226...</td>\n",
       "      <td>12-16</td>\n",
       "    </tr>\n",
       "    <tr>\n",
       "      <th>1</th>\n",
       "      <td>15</td>\n",
       "      <td>13.0</td>\n",
       "      <td>6671</td>\n",
       "      <td>903</td>\n",
       "      <td>{'rock': 0.4229800629590814, 'punk': 0.0415030...</td>\n",
       "      <td>12-16</td>\n",
       "    </tr>\n",
       "    <tr>\n",
       "      <th>2</th>\n",
       "      <td>15</td>\n",
       "      <td>14.0</td>\n",
       "      <td>5661</td>\n",
       "      <td>1021</td>\n",
       "      <td>{'rock': 0.3957840193134275, 'pop': 0.26923688...</td>\n",
       "      <td>12-16</td>\n",
       "    </tr>\n",
       "    <tr>\n",
       "      <th>3</th>\n",
       "      <td>15</td>\n",
       "      <td>15.0</td>\n",
       "      <td>4166</td>\n",
       "      <td>1096</td>\n",
       "      <td>{'rock': 0.3408665386461778, 'pop': 0.26416626...</td>\n",
       "      <td>12-16</td>\n",
       "    </tr>\n",
       "    <tr>\n",
       "      <th>4</th>\n",
       "      <td>15</td>\n",
       "      <td>16.0</td>\n",
       "      <td>390</td>\n",
       "      <td>203</td>\n",
       "      <td>{'punk': 0.2271367521367523, 'alternative': 0....</td>\n",
       "      <td>12-16</td>\n",
       "    </tr>\n",
       "    <tr>\n",
       "      <th>...</th>\n",
       "      <td>...</td>\n",
       "      <td>...</td>\n",
       "      <td>...</td>\n",
       "      <td>...</td>\n",
       "      <td>...</td>\n",
       "      <td>...</td>\n",
       "    </tr>\n",
       "    <tr>\n",
       "      <th>219049</th>\n",
       "      <td>44321</td>\n",
       "      <td>57.0</td>\n",
       "      <td>1356</td>\n",
       "      <td>1034</td>\n",
       "      <td>{'pop': 0.15083052394999366, 'classical': 0.01...</td>\n",
       "      <td>30-65</td>\n",
       "    </tr>\n",
       "    <tr>\n",
       "      <th>219050</th>\n",
       "      <td>44321</td>\n",
       "      <td>58.0</td>\n",
       "      <td>211</td>\n",
       "      <td>166</td>\n",
       "      <td>{'jazz': 0.655608214849921, 'rock': 0.05924170...</td>\n",
       "      <td>30-65</td>\n",
       "    </tr>\n",
       "    <tr>\n",
       "      <th>219051</th>\n",
       "      <td>44321</td>\n",
       "      <td>59.0</td>\n",
       "      <td>93</td>\n",
       "      <td>71</td>\n",
       "      <td>{'blues': 0.01881720430107527, 'rock': 0.04301...</td>\n",
       "      <td>30-65</td>\n",
       "    </tr>\n",
       "    <tr>\n",
       "      <th>219052</th>\n",
       "      <td>44321</td>\n",
       "      <td>60.0</td>\n",
       "      <td>551</td>\n",
       "      <td>489</td>\n",
       "      <td>{'easy listening': 0.0070175438596491255, 'voc...</td>\n",
       "      <td>30-65</td>\n",
       "    </tr>\n",
       "    <tr>\n",
       "      <th>219053</th>\n",
       "      <td>44321</td>\n",
       "      <td>61.0</td>\n",
       "      <td>248</td>\n",
       "      <td>230</td>\n",
       "      <td>{'electronic': 0.19502688172043006, 'jazz': 0....</td>\n",
       "      <td>30-65</td>\n",
       "    </tr>\n",
       "  </tbody>\n",
       "</table>\n",
       "<p>219054 rows × 6 columns</p>\n",
       "</div>"
      ],
      "text/plain": [
       "        user_id   age  num_interactions  num_unique_items  \\\n",
       "0            15  12.0              4117               672   \n",
       "1            15  13.0              6671               903   \n",
       "2            15  14.0              5661              1021   \n",
       "3            15  15.0              4166              1096   \n",
       "4            15  16.0               390               203   \n",
       "...         ...   ...               ...               ...   \n",
       "219049    44321  57.0              1356              1034   \n",
       "219050    44321  58.0               211               166   \n",
       "219051    44321  59.0                93                71   \n",
       "219052    44321  60.0               551               489   \n",
       "219053    44321  61.0               248               230   \n",
       "\n",
       "                            normalized_genre_distribution age_group  \n",
       "0       {'pop': 0.20456643186786935, 'punk': 0.0351226...     12-16  \n",
       "1       {'rock': 0.4229800629590814, 'punk': 0.0415030...     12-16  \n",
       "2       {'rock': 0.3957840193134275, 'pop': 0.26923688...     12-16  \n",
       "3       {'rock': 0.3408665386461778, 'pop': 0.26416626...     12-16  \n",
       "4       {'punk': 0.2271367521367523, 'alternative': 0....     12-16  \n",
       "...                                                   ...       ...  \n",
       "219049  {'pop': 0.15083052394999366, 'classical': 0.01...     30-65  \n",
       "219050  {'jazz': 0.655608214849921, 'rock': 0.05924170...     30-65  \n",
       "219051  {'blues': 0.01881720430107527, 'rock': 0.04301...     30-65  \n",
       "219052  {'easy listening': 0.0070175438596491255, 'voc...     30-65  \n",
       "219053  {'electronic': 0.19502688172043006, 'jazz': 0....     30-65  \n",
       "\n",
       "[219054 rows x 6 columns]"
      ]
     },
     "execution_count": 12,
     "metadata": {},
     "output_type": "execute_result"
    }
   ],
   "source": [
    "user_stats"
   ]
  }
 ],
 "metadata": {
  "kernelspec": {
   "display_name": "2025_RecSys_repro",
   "language": "python",
   "name": "python3"
  },
  "language_info": {
   "codemirror_mode": {
    "name": "ipython",
    "version": 3
   },
   "file_extension": ".py",
   "mimetype": "text/x-python",
   "name": "python",
   "nbconvert_exporter": "python",
   "pygments_lexer": "ipython3",
   "version": "3.12.9"
  }
 },
 "nbformat": 4,
 "nbformat_minor": 5
}
