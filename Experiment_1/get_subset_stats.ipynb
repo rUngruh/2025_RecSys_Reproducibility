{
 "cells": [
  {
   "cell_type": "code",
   "execution_count": 1,
   "id": "bbaf78a9",
   "metadata": {},
   "outputs": [],
   "source": [
    "import utils.age_processing as ap\n",
    "import os\n",
    "import ast\n",
    "import pandas as pd\n",
    "import matplotlib\n",
    "import matplotlib.pyplot as plt\n",
    "import seaborn as sns\n",
    "matplotlib.use('TkAgg')"
   ]
  },
  {
   "cell_type": "code",
   "execution_count": 2,
   "id": "4c642e64",
   "metadata": {},
   "outputs": [],
   "source": [
    "from dotenv import load_dotenv\n",
    "from pathlib import Path\n",
    "env_path = Path('..') / 'config.env'\n",
    "load_dotenv(dotenv_path=env_path)\n",
    "dataset_dir = os.getenv(\"dataset_directory\")"
   ]
  },
  {
   "cell_type": "code",
   "execution_count": 3,
   "id": "9bfbad66",
   "metadata": {},
   "outputs": [],
   "source": [
    "dataset = 'bx' # 'ml', 'mlhd', or 'bx'\n",
    "weighted = True\n",
    "age_type = 'finegrained_age'"
   ]
  },
  {
   "cell_type": "code",
   "execution_count": 4,
   "id": "cf7586d3",
   "metadata": {},
   "outputs": [],
   "source": [
    "ages_sort = ap.get_sorted_ages(dataset, age_type)"
   ]
  },
  {
   "cell_type": "code",
   "execution_count": 5,
   "id": "93e3a6c3",
   "metadata": {},
   "outputs": [],
   "source": [
    "genres = []\n",
    "\n",
    "if dataset == 'ml':\n",
    "    data_dir = dataset_dir + '/processed/movielens-1m'\n",
    "    with open('../utils/ML_genres.txt', 'r') as f:\n",
    "        for line in f:\n",
    "            genres.append(line.strip())\n",
    "elif dataset == 'mlhd':\n",
    "    data_dir = dataset_dir + '/processed/mldh_sampled_filtered'\n",
    "    with open('../utils/MLHD_genres.txt', 'r') as f:\n",
    "        for line in f:\n",
    "            genres.append(line.strip())\n",
    "elif dataset == 'bx':\n",
    "    data_dir = dataset_dir + '/processed/Book-Crossing'\n",
    "    with open('../utils/BX_genres.txt', 'r') as f:\n",
    "        for line in f:\n",
    "            genres.append(line.strip())\n",
    "\n"
   ]
  },
  {
   "cell_type": "code",
   "execution_count": 6,
   "id": "97d88b2f",
   "metadata": {},
   "outputs": [
    {
     "name": "stderr",
     "output_type": "stream",
     "text": [
      "C:\\Users\\rungruh\\AppData\\Local\\Temp\\ipykernel_23488\\417934447.py:13: FutureWarning: The default of observed=False is deprecated and will be changed to True in a future version of pandas. Pass observed=False to retain current behavior or observed=True to adopt the future default and silence this warning.\n",
      "  grouped_user_stats = user_stats.groupby('age_group')\n"
     ]
    }
   ],
   "source": [
    "user_profile_stats_path = data_dir + f'/user_profile_stats{\"_weighted\" if weighted else \"\"}.tsv'\n",
    "user_path = data_dir + '/users.tsv'\n",
    "interactions_path = data_dir + '/interactions.tsv.bz2'\n",
    "\n",
    "users = pd.read_csv(user_path, sep='\\t')\n",
    "user_stats = pd.read_csv(user_profile_stats_path, sep='\\t')\n",
    "user_stats['normalized_genre_distribution'] = user_stats['normalized_genre_distribution'].apply(ast.literal_eval)\n",
    "\n",
    "\n",
    "user_stats['age_group'] = user_stats['age'].apply(lambda x: ap.age_group(x, dataset, age_type))\n",
    "user_stats['age_group'] = pd.Categorical(user_stats['age_group'], categories=ages_sort, ordered=True)\n",
    "\n",
    "grouped_user_stats = user_stats.groupby('age_group')"
   ]
  },
  {
   "cell_type": "code",
   "execution_count": 7,
   "id": "6e4ecbad",
   "metadata": {},
   "outputs": [
    {
     "name": "stdout",
     "output_type": "stream",
     "text": [
      "Age group: 12\n",
      "Number of users: 66\n",
      "Average number of interactions: 7.909090909090909\n",
      "Age group: 13\n",
      "Number of users: 229\n",
      "Average number of interactions: 3.7860262008733625\n",
      "Age group: 14\n",
      "Number of users: 449\n",
      "Average number of interactions: 5.276169265033408\n",
      "Age group: 15\n",
      "Number of users: 549\n",
      "Average number of interactions: 3.9799635701275045\n",
      "Age group: 16\n",
      "Number of users: 572\n",
      "Average number of interactions: 3.6363636363636362\n",
      "Age group: 17\n",
      "Number of users: 666\n",
      "Average number of interactions: 5.087087087087087\n",
      "Age group: 18\n",
      "Number of users: 719\n",
      "Average number of interactions: 7.411682892906815\n",
      "Age group: 19-20\n",
      "Number of users: 1348\n",
      "Average number of interactions: 4.9792284866468846\n",
      "Age group: 21-22\n",
      "Number of users: 1610\n",
      "Average number of interactions: 7.51055900621118\n",
      "Age group: 23-24\n",
      "Number of users: 2034\n",
      "Average number of interactions: 9.846116027531957\n",
      "Age group: 25-29\n",
      "Number of users: 5412\n",
      "Average number of interactions: 11.87971175166297\n",
      "Age group: 30-34\n",
      "Number of users: 5328\n",
      "Average number of interactions: 13.975225225225225\n",
      "Age group: 35-44\n",
      "Number of users: 7771\n",
      "Average number of interactions: 13.133187491957276\n",
      "Age group: 45-54\n",
      "Number of users: 5292\n",
      "Average number of interactions: 13.180839002267573\n",
      "Age group: 55-65\n",
      "Number of users: 2983\n",
      "Average number of interactions: 10.165605095541402\n"
     ]
    }
   ],
   "source": [
    "for age, group in grouped_user_stats:\n",
    "    print(f\"Age group: {age}\")\n",
    "    print(f\"Number of users: {len(group)}\")\n",
    "    print(f\"Average number of interactions: {group['num_interactions'].mean()}\")"
   ]
  },
  {
   "cell_type": "markdown",
   "id": "6b1da0d8",
   "metadata": {},
   "source": [
    "## Profile Size Distribution"
   ]
  },
  {
   "cell_type": "code",
   "execution_count": 8,
   "id": "dc427602",
   "metadata": {},
   "outputs": [
    {
     "name": "stderr",
     "output_type": "stream",
     "text": [
      "C:\\Users\\rungruh\\AppData\\Local\\Temp\\ipykernel_23488\\4286840246.py:1: FutureWarning: The default of observed=False is deprecated and will be changed to True in a future version of pandas. Pass observed=False to retain current behavior or observed=True to adopt the future default and silence this warning.\n",
      "  interactions_per_age = user_stats.groupby('age_group')['num_interactions'].sum().to_dict()\n",
      "C:\\Users\\rungruh\\AppData\\Local\\Temp\\ipykernel_23488\\4286840246.py:7: UserWarning: set_ticklabels() should only be used with a fixed number of ticks, i.e. after set_ticks() or using a FixedLocator.\n",
      "  ax.set_yticklabels(ylabels)\n"
     ]
    }
   ],
   "source": [
    "interactions_per_age = user_stats.groupby('age_group')['num_interactions'].sum().to_dict()\n",
    "interactions_per_age = {age: interactions_per_age.get(age, 0) for age in ages_sort}\n",
    "\n",
    "plt.figure(figsize=(12, 6))\n",
    "ax = sns.lineplot(data=interactions_per_age, marker='o', color='b', )\n",
    "ylabels = [f'{x:,}' for x in ax.get_yticks()]\n",
    "ax.set_yticklabels(ylabels)\n",
    "plt.title('Number of Ratings per Age Group')\n",
    "plt.xlabel('Age')\n",
    "plt.ylabel('Number of Ratings')\n",
    "plt.grid(True, linestyle='--', linewidth=0.5, alpha=0.5)\n",
    "plt.xticks(ha='center')  # Rotate labels by 45 degrees and align to the right\n",
    "plt.show()\n",
    "\n",
    "\n",
    "\n",
    "plt.figure(figsize=(12, 6))\n",
    "ax = sns.boxplot(data=user_stats, x='age_group', y='num_interactions')\n",
    "ax.set(ylim=(0,250))\n",
    "plt.title('Number of Ratings per Age Group')\n",
    "plt.xlabel('Age')\n",
    "plt.ylabel('Number of Ratings per User')\n",
    "plt.grid(True, linestyle='--', linewidth=0.5, alpha=0.5)\n",
    "plt.xticks(ha='center')\n",
    "plt.show()"
   ]
  },
  {
   "cell_type": "code",
   "execution_count": 9,
   "id": "d6d071c4",
   "metadata": {},
   "outputs": [],
   "source": [
    "    ages = user_stats['age_group'].value_counts().to_dict()\n",
    "    ages = {age: ages.get(age, 0) for age in ages_sort}\n",
    "    plt.figure(figsize=(10, 8))\n",
    "    sns.barplot(x=list(ages.keys()), y=list(ages.values()), color='b')\n",
    "    #plt.title('Number of Profiles per Age Group')\n",
    "    plt.xlabel('Age', fontsize=16)\n",
    "    plt.ylabel('Number of Profiles', fontsize=16)\n",
    "    # Ensure that the x-ticks only show the desired ages\n",
    "    plt.xticks(fontsize=16)\n",
    "    plt.yticks(fontsize=16)\n",
    "    plt.tight_layout()\n",
    "    plt.show()"
   ]
  },
  {
   "cell_type": "code",
   "execution_count": 10,
   "id": "b850cdbe",
   "metadata": {},
   "outputs": [
    {
     "name": "stdout",
     "output_type": "stream",
     "text": [
      "Number of users: 35028\n",
      "Number of user profiles: 35028\n",
      "Average number of profiles: 1.0\n",
      "Minimum number of profiles: 1\n",
      "Maximum number of profiles: 1\n",
      "Number of users with more than 1 profile: 0\n",
      "Number of users with more than 5 profiles: 0\n",
      "Number of users with more than 10 profiles: 0\n",
      "Average profile size: 11.318345323741006\n",
      "Average interactions per user: 11.318345323741006\n",
      "Minimum profile size: 1\n",
      "Maximum profile size: 3674\n",
      "Number of profiles with more than 1 listen event: 17298\n",
      "Number of profiles with more than 5 interactions: 7572\n",
      "Number of profiles with more than 10 interactions: 4729\n"
     ]
    }
   ],
   "source": [
    "stats_grouped = user_stats.groupby('user_id')\n",
    "num_users = len(stats_grouped)\n",
    "print(f\"Number of users: {num_users}\")\n",
    "print(f\"Number of user profiles: {len(user_stats)}\")\n",
    "\n",
    "num_profiles = {user_id: len(group) for user_id, group in stats_grouped}\n",
    "avg_num_profiles = sum(num_profiles.values()) / len(num_profiles)\n",
    "min_num_profiles = min(num_profiles.values())\n",
    "max_num_profiles = max(num_profiles.values())\n",
    "print(f\"Average number of profiles: {avg_num_profiles}\")\n",
    "print(f\"Minimum number of profiles: {min_num_profiles}\")\n",
    "print(f\"Maximum number of profiles: {max_num_profiles}\")\n",
    "print(f\"Number of users with more than 1 profile: {sum(1 for num in num_profiles.values() if num > 1)}\")\n",
    "print(f\"Number of users with more than 5 profiles: {sum(1 for num in num_profiles.values() if num > 5)}\")\n",
    "print(f\"Number of users with more than 10 profiles: {sum(1 for num in num_profiles.values() if num > 10)}\")\n",
    "\n",
    "profile_sizes = {user_id: group['num_interactions'].tolist() for user_id, group in stats_grouped}\n",
    "avg_profile_size = sum(sum(sizes) / len(sizes) for sizes in profile_sizes.values()) / len(profile_sizes)\n",
    "avg_listen_events_per_user = sum(sum(sizes) for sizes in profile_sizes.values()) / len(profile_sizes)\n",
    "print(f\"Average profile size: {avg_profile_size}\")\n",
    "print(f\"Average interactions per user: {avg_listen_events_per_user}\")\n",
    "print(f\"Minimum profile size: {min(min(sizes) for sizes in profile_sizes.values())}\")\n",
    "print(f\"Maximum profile size: {max(max(sizes) for sizes in profile_sizes.values())}\")\n",
    "print(f\"Number of profiles with more than 1 listen event: {sum(sum(1 for size in sizes if size > 1) for sizes in profile_sizes.values())}\")\n",
    "print(f\"Number of profiles with more than 5 interactions: {sum(sum(1 for size in sizes if size > 5) for sizes in profile_sizes.values())}\")\n",
    "print(f\"Number of profiles with more than 10 interactions: {sum(sum(1 for size in sizes if size > 10) for sizes in profile_sizes.values())}\")\n",
    "\n",
    "\n",
    "ages = user_stats['age'].value_counts().to_dict()\n",
    "\n",
    "plt.figure(figsize=(10, 8))\n",
    "sns.barplot(x=list(ages.keys()), y=list(ages.values()), color='b')\n",
    "#plt.title('Number of Profiles per Age Group')\n",
    "plt.xlabel('Age', fontsize=16)\n",
    "plt.ylabel('Number of Profiles', fontsize=16)\n",
    "# Create a list of x-tick positions. Start with the minimum age and add every 5 years.\n",
    "ages_to_display = [0, 3] + list(range(3, int(max(ages.keys()))-10, 5))\n",
    "\n",
    "# Ensure that the x-ticks only show the desired ages\n",
    "plt.xticks(ticks=ages_to_display, fontsize=16)\n",
    "plt.yticks(fontsize=16)\n",
    "plt.tight_layout()\n",
    "plt.show()"
   ]
  },
  {
   "cell_type": "code",
   "execution_count": null,
   "id": "90bee9cc",
   "metadata": {},
   "outputs": [
    {
     "data": {
      "text/plain": [
       "count    36547.000000\n",
       "mean        35.746628\n",
       "std         14.886077\n",
       "min          0.000000\n",
       "25%         25.000000\n",
       "50%         34.000000\n",
       "75%         45.000000\n",
       "max        244.000000\n",
       "Name: age, dtype: float64"
      ]
     },
     "execution_count": 35,
     "metadata": {},
     "output_type": "execute_result"
    }
   ],
   "source": []
  }
 ],
 "metadata": {
  "kernelspec": {
   "display_name": "2025_RecSys_repro",
   "language": "python",
   "name": "python3"
  },
  "language_info": {
   "codemirror_mode": {
    "name": "ipython",
    "version": 3
   },
   "file_extension": ".py",
   "mimetype": "text/x-python",
   "name": "python",
   "nbconvert_exporter": "python",
   "pygments_lexer": "ipython3",
   "version": "3.12.9"
  }
 },
 "nbformat": 4,
 "nbformat_minor": 5
}
